{
 "cells": [
  {
   "cell_type": "code",
   "execution_count": 4,
   "metadata": {},
   "outputs": [
    {
     "name": "stdout",
     "output_type": "stream",
     "text": [
      "shaghayegh\n",
      "mousavi\n",
      "shaghayegh mousavi\n"
     ]
    }
   ],
   "source": [
    "class Person:\n",
    "    def __init__(self , name , family ):\n",
    "        self.name = name\n",
    "        self.family = family\n",
    "        \n",
    "    @property\n",
    "    def fullName (self):\n",
    "        return f\"{self.name} {self.family}\"\n",
    "    \n",
    "    \n",
    "    \n",
    "class User(Person):\n",
    "    pass\n",
    "       \n",
    "shaghayegh =User('shaghayegh','mousavi')\n",
    "print(shaghayegh.name)\n",
    "print(shaghayegh.family)\n",
    "print(shaghayegh.fullName)"
   ]
  },
  {
   "cell_type": "code",
   "execution_count": 5,
   "metadata": {},
   "outputs": [
    {
     "name": "stdout",
     "output_type": "stream",
     "text": [
      "shaghayegh mousavi\n"
     ]
    }
   ],
   "source": [
    "class Person:\n",
    "    def __init__(self , name , family ):\n",
    "        self.name = name\n",
    "        self.family = family\n",
    "        \n",
    "    @property\n",
    "    def fullName (self):\n",
    "        return f\"{self.name} {self.family}\"\n",
    "    \n",
    "    \n",
    "    \n",
    "class User(Person):\n",
    "    def __init__(self, name, family , email):\n",
    "        super().__init__(name, family)\n",
    "        self.email = email\n",
    "print (shaghayegh.fullName)"
   ]
  }
 ],
 "metadata": {
  "kernelspec": {
   "display_name": "Python 3",
   "language": "python",
   "name": "python3"
  },
  "language_info": {
   "codemirror_mode": {
    "name": "ipython",
    "version": 3
   },
   "file_extension": ".py",
   "mimetype": "text/x-python",
   "name": "python",
   "nbconvert_exporter": "python",
   "pygments_lexer": "ipython3",
   "version": "3.12.2"
  }
 },
 "nbformat": 4,
 "nbformat_minor": 2
}
