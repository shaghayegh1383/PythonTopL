{
 "cells": [
  {
   "cell_type": "code",
   "execution_count": 1,
   "metadata": {},
   "outputs": [
    {
     "name": "stdout",
     "output_type": "stream",
     "text": [
      "8\n",
      "9\n"
     ]
    }
   ],
   "source": [
    "def exponent(num, power=2): #default value\n",
    "    return num ** power\n",
    "\n",
    "\n",
    "print(exponent(2, 3))  # 2 * 2 * 2 = 8\n",
    "print(exponent(3))  # 3 * 3 = 9\n"
   ]
  },
  {
   "cell_type": "code",
   "execution_count": 2,
   "metadata": {},
   "outputs": [
    {
     "name": "stdout",
     "output_type": "stream",
     "text": [
      "jquery\n",
      "['python', 'kotlin', 'vuejs']\n"
     ]
    }
   ],
   "source": [
    "courses = ['python','kotlin','vuejs','jquery']\n",
    "\n",
    "print(courses.pop())\n",
    "print(courses)"
   ]
  },
  {
   "cell_type": "code",
   "execution_count": 7,
   "metadata": {},
   "outputs": [
    {
     "name": "stdout",
     "output_type": "stream",
     "text": [
      "Shaghayegh Mousavi\n"
     ]
    }
   ],
   "source": [
    "def showFullName(first, last):\n",
    "    return f\"{first} {last}\"\n",
    "\n",
    "#print(showFullName(\"Mousavi\",\"Shaghayegh\"))\n",
    "\n",
    "\n",
    "print(showFullName(last=\"Mousavi\", first=\"Shaghayegh\"))\n",
    "\n",
    "#print(first) error"
   ]
  }
 ],
 "metadata": {
  "kernelspec": {
   "display_name": "Python 3",
   "language": "python",
   "name": "python3"
  },
  "language_info": {
   "codemirror_mode": {
    "name": "ipython",
    "version": 3
   },
   "file_extension": ".py",
   "mimetype": "text/x-python",
   "name": "python",
   "nbconvert_exporter": "python",
   "pygments_lexer": "ipython3",
   "version": "3.12.2"
  }
 },
 "nbformat": 4,
 "nbformat_minor": 2
}
