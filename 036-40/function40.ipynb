{
 "cells": [
  {
   "cell_type": "markdown",
   "metadata": {},
   "source": [
    "args/ *args / **kwargs"
   ]
  },
  {
   "cell_type": "code",
   "execution_count": null,
   "metadata": {},
   "outputs": [],
   "source": [
    "def sum_all_numbers(*args):\n",
    "     print(args)\n",
    "     total = 0\n",
    "     for num in args:\n",
    "         total += num\n",
    "     return total\n",
    " \n",
    "numbers = [1, 2, 3, 4, 5, 6]\n",
    "\n",
    "\n",
    "#print(sum_all_numbers(numbers))  # ([1,2,3,4,5,6],)\n",
    "\n",
    "#print(sum_all_numbers(*numbers))  # (1,2,3,4,5,6)\n",
    "\n",
    "\n",
    "print(sum_all_numbers('second', 4))\n",
    "print(sum_all_numbers('third', 1, 5, 6, 9))\n"
   ]
  },
  {
   "cell_type": "code",
   "execution_count": 3,
   "metadata": {},
   "outputs": [
    {
     "name": "stdout",
     "output_type": "stream",
     "text": [
      "name : Shaghayegh\n",
      "family : Mousavi\n",
      "age : 23\n",
      "email : Sh.s.m1383@gmail.com\n"
     ]
    }
   ],
   "source": [
    "def showUserInfo(**kwargs):\n",
    "     for key, value in kwargs.items():\n",
    "        print(f\"{key} : {value}\")\n",
    "\n",
    "\n",
    "showUserInfo(name=\"Shaghayegh\", family=\"Mousavi\",\n",
    "              age=23, email=\"Sh.s.m1383@gmail.com\")"
   ]
  },
  {
   "cell_type": "code",
   "execution_count": 5,
   "metadata": {},
   "outputs": [
    {
     "name": "stdout",
     "output_type": "stream",
     "text": [
      "name is shaghayegh and family is Mousavi\n"
     ]
    }
   ],
   "source": [
    "def display_names(name,family):\n",
    "    print(f\"name is {name} and family is {family}\")\n",
    "\n",
    "person = {\"name\":\"shaghayegh\",\"family\":\"Mousavi\"}\n",
    "\n",
    "display_names(**person)"
   ]
  },
  {
   "cell_type": "markdown",
   "metadata": {},
   "source": [
    "order of function\n",
    "\n",
    "parameters\n",
    "\n",
    "*args\n",
    "\n",
    "default parameters\n",
    "\n",
    "**kwargs"
   ]
  },
  {
   "cell_type": "code",
   "execution_count": 7,
   "metadata": {},
   "outputs": [
    {
     "name": "stdout",
     "output_type": "stream",
     "text": [
      "[1, 2, (6,), 'defalut', {'first_name': 'shaghayegh', 'last_name': 'Mousavi'}]\n"
     ]
    }
   ],
   "source": [
    "def display_info(a, b, *args, defPara=\"defalut\", **kwargs):\n",
    "     return [a, b, args, defPara, kwargs]\n",
    "\n",
    "\n",
    "print(display_info(1, 2, 6, first_name=\"shaghayegh\", last_name=\"Mousavi\"))\n"
   ]
  }
 ],
 "metadata": {
  "kernelspec": {
   "display_name": "Python 3",
   "language": "python",
   "name": "python3"
  },
  "language_info": {
   "codemirror_mode": {
    "name": "ipython",
    "version": 3
   },
   "file_extension": ".py",
   "mimetype": "text/x-python",
   "name": "python",
   "nbconvert_exporter": "python",
   "pygments_lexer": "ipython3",
   "version": "3.12.2"
  }
 },
 "nbformat": 4,
 "nbformat_minor": 2
}
