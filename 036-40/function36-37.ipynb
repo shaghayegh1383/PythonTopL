{
 "cells": [
  {
   "cell_type": "code",
   "execution_count": 2,
   "metadata": {},
   "outputs": [
    {
     "name": "stdout",
     "output_type": "stream",
     "text": [
      "hello\n",
      "-------------\n",
      "hello\n",
      "-------------\n"
     ]
    }
   ],
   "source": [
    "# def nameOfFunction ():\n",
    "#     command\n",
    "\n",
    "def sayHello():\n",
    "    print(\"hello\")\n",
    "    print(\"-------------\")\n",
    "\n",
    "\n",
    "sayHello()\n",
    "sayHello()"
   ]
  },
  {
   "cell_type": "code",
   "execution_count": 3,
   "metadata": {},
   "outputs": [
    {
     "name": "stdout",
     "output_type": "stream",
     "text": [
      "11\n"
     ]
    }
   ],
   "source": [
    "# def print_square_of_7():\n",
    "#     print(7**2)\n",
    "# print_square_of_7()\n",
    "\n",
    "\n",
    "# def square_of_7():\n",
    "#     # commands\n",
    "#     print(\"I Am Before Return\")\n",
    "#     return 7**2\n",
    "#     print(\"I Am After Return\")\n",
    "\n",
    "\n",
    "# print(square_of_7())\n",
    "\n",
    "def add_numbers():\n",
    "    a = 4\n",
    "    b = 7\n",
    "    return a + b\n",
    "\n",
    "\n",
    "print(add_numbers())\n"
   ]
  }
 ],
 "metadata": {
  "kernelspec": {
   "display_name": "Python 3",
   "language": "python",
   "name": "python3"
  },
  "language_info": {
   "codemirror_mode": {
    "name": "ipython",
    "version": 3
   },
   "file_extension": ".py",
   "mimetype": "text/x-python",
   "name": "python",
   "nbconvert_exporter": "python",
   "pygments_lexer": "ipython3",
   "version": "3.12.2"
  }
 },
 "nbformat": 4,
 "nbformat_minor": 2
}
