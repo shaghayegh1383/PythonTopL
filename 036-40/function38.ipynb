{
 "cells": [
  {
   "cell_type": "markdown",
   "metadata": {},
   "source": [
    "Parameters and Arguments"
   ]
  },
  {
   "cell_type": "code",
   "execution_count": 3,
   "metadata": {},
   "outputs": [
    {
     "name": "stdout",
     "output_type": "stream",
     "text": [
      "11\n",
      "15\n"
     ]
    }
   ],
   "source": [
    "def sum(firstNumber):\n",
    "     return firstNumber + 6\n",
    "\n",
    "\n",
    "print(sum(5))\n",
    "print(sum(9))"
   ]
  },
  {
   "cell_type": "code",
   "execution_count": 4,
   "metadata": {},
   "outputs": [
    {
     "name": "stdout",
     "output_type": "stream",
     "text": [
      "25\n"
     ]
    }
   ],
   "source": [
    "def sum(firstNumber, secondNumber):\n",
    "     return firstNumber + secondNumber\n",
    "\n",
    "print(sum(19,6))"
   ]
  },
  {
   "cell_type": "code",
   "execution_count": 5,
   "metadata": {},
   "outputs": [
    {
     "name": "stdout",
     "output_type": "stream",
     "text": [
      "Shaghayegh Mousavi\n",
      "Shaghayegh Mousavi\n"
     ]
    }
   ],
   "source": [
    "name = \"Shaghayegh\"\n",
    "family = \"Mousavi\"\n",
    "\n",
    "person = {\n",
    "    \"name\": \"Shaghayegh\",\n",
    "    \"family\": \"Mousavi\"\n",
    " }\n",
    "\n",
    "\n",
    "def showFullName(firstName, lastName):\n",
    "   return f\"{firstName} {lastName}\"\n",
    "\n",
    "\n",
    "print(showFullName(name, family))\n",
    "print(showFullName(person[\"name\"], person[\"family\"]))\n"
   ]
  },
  {
   "cell_type": "code",
   "execution_count": 6,
   "metadata": {},
   "outputs": [
    {
     "name": "stdout",
     "output_type": "stream",
     "text": [
      "0.6\n",
      "1.6666666666666667\n"
     ]
    }
   ],
   "source": [
    "def divide(num_1, num_2):\n",
    "   return num_1 / num_2\n",
    "\n",
    "print(divide(3,5))\n",
    "print(divide(5,3))\n"
   ]
  },
  {
   "cell_type": "code",
   "execution_count": 9,
   "metadata": {},
   "outputs": [
    {
     "name": "stdout",
     "output_type": "stream",
     "text": [
      "16\n"
     ]
    }
   ],
   "source": [
    "myNumbers = [1, 2, 3, 4, 5, 6, 7]  # 16\n",
    "\n",
    "def sum_odd_numbers(numbers):\n",
    "   total = 0\n",
    "   for num in numbers:\n",
    "       if num % 2 != 0:\n",
    "           total += num\n",
    "   return total  #return dar for => 1 / biroon for =>16\n",
    "\n",
    "\n",
    "print(sum_odd_numbers(myNumbers))\n"
   ]
  },
  {
   "cell_type": "code",
   "execution_count": null,
   "metadata": {},
   "outputs": [],
   "source": [
    "def is_even_number(number):\n",
    "    if number % 2 == 0:\n",
    "        return True\n",
    "    return False\n",
    "\n",
    "\n",
    "print(is_even_number(5))  # false\n",
    "print(is_even_number(6))  # true\n"
   ]
  }
 ],
 "metadata": {
  "kernelspec": {
   "display_name": "Python 3",
   "language": "python",
   "name": "python3"
  },
  "language_info": {
   "codemirror_mode": {
    "name": "ipython",
    "version": 3
   },
   "file_extension": ".py",
   "mimetype": "text/x-python",
   "name": "python",
   "nbconvert_exporter": "python",
   "pygments_lexer": "ipython3",
   "version": "3.12.2"
  }
 },
 "nbformat": 4,
 "nbformat_minor": 2
}
