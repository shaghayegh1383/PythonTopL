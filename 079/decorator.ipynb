{
 "cells": [
  {
   "cell_type": "code",
   "execution_count": 5,
   "metadata": {},
   "outputs": [
    {
     "name": "stdout",
     "output_type": "stream",
     "text": [
      "15\n"
     ]
    }
   ],
   "source": [
    "def sum(number):\n",
    "    total = 0\n",
    "    for num in range (1 , number + 1):\n",
    "        total += num\n",
    "    return total\n",
    "    \n",
    "print (sum(5)) # 1 + 2 + 3 + 4 + 5"
   ]
  },
  {
   "cell_type": "markdown",
   "metadata": {},
   "source": [
    "فانکشنی رو به عنوان ورودی بدیم به فانکشن دیگه"
   ]
  },
  {
   "cell_type": "code",
   "execution_count": 6,
   "metadata": {},
   "outputs": [
    {
     "name": "stdout",
     "output_type": "stream",
     "text": [
      "55\n"
     ]
    }
   ],
   "source": [
    "def sum(number,func):\n",
    "    total = 0\n",
    "    for num in range (1 , number + 1):\n",
    "        total += func(num)\n",
    "    return total\n",
    "\n",
    "def square(x):\n",
    "    return x * x\n",
    "\n",
    "print (sum(5 , square)) # 1 + 4 + 9 + 16 + 25"
   ]
  },
  {
   "cell_type": "markdown",
   "metadata": {},
   "source": [
    "داخل یک فانکشن یه فانکشن دیگه تعریف کنیم و فراخوانیش کنیم"
   ]
  },
  {
   "cell_type": "code",
   "execution_count": 12,
   "metadata": {},
   "outputs": [
    {
     "name": "stdout",
     "output_type": "stream",
     "text": [
      "goodbye shaghayegh\n"
     ]
    }
   ],
   "source": [
    "from random import choice\n",
    "\n",
    "def greet (person):\n",
    "    def get_mood():\n",
    "        msg = choice(('Hello ','go away ','goodbye '))\n",
    "        return msg\n",
    "    result = get_mood() + person   # فقط داخل فانکشن گریت بهش دسترسی داریم\n",
    "    return result\n",
    "    \n",
    "print(greet(\"shaghayegh\"))\n",
    "    "
   ]
  }
 ],
 "metadata": {
  "kernelspec": {
   "display_name": "Python 3",
   "language": "python",
   "name": "python3"
  },
  "language_info": {
   "codemirror_mode": {
    "name": "ipython",
    "version": 3
   },
   "file_extension": ".py",
   "mimetype": "text/x-python",
   "name": "python",
   "nbconvert_exporter": "python",
   "pygments_lexer": "ipython3",
   "version": "3.12.2"
  }
 },
 "nbformat": 4,
 "nbformat_minor": 2
}
