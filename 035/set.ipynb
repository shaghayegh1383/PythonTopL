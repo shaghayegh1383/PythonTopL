{
 "cells": [
  {
   "cell_type": "markdown",
   "metadata": {},
   "source": [
    "tazmini baraye tartibesh nist"
   ]
  },
  {
   "cell_type": "code",
   "execution_count": 4,
   "metadata": {},
   "outputs": [
    {
     "name": "stdout",
     "output_type": "stream",
     "text": [
      "True\n",
      "{1, 2, 3, 'z', 5, 't', 7}\n",
      "1\n",
      "2\n",
      "3\n",
      "z\n",
      "5\n",
      "t\n",
      "7\n"
     ]
    }
   ],
   "source": [
    "numbers = {1, 2, 3, 4, 4, 4, 4, 4, 2, 2, 5}\n",
    "\n",
    "numbers_2 = {3, 5, 't', 'z', 2, 7, 1, 1, 1, 5, 5, 5, 5}\n",
    "\n",
    "print(4 in numbers)\n",
    "\n",
    "print(numbers_2)\n",
    "\n",
    "for item in numbers_2:\n",
    " print(item)\n",
    " \n",
    "# print(list(numbers_2))"
   ]
  },
  {
   "cell_type": "code",
   "execution_count": 5,
   "metadata": {},
   "outputs": [
    {
     "name": "stdout",
     "output_type": "stream",
     "text": [
      "{'kotlin', 'ionic', 'vuejs', 'python'}\n"
     ]
    }
   ],
   "source": [
    "courses = [\"kotlin\", \"vuejs\", \"python\", \"ionic\"]\n",
    "\n",
    "courses_set = set(courses)\n",
    "\n",
    "print(courses_set)"
   ]
  },
  {
   "cell_type": "markdown",
   "metadata": {},
   "source": [
    "Set methods => remove , add , discard , copy , clear"
   ]
  },
  {
   "cell_type": "code",
   "execution_count": null,
   "metadata": {},
   "outputs": [],
   "source": [
    "numbers = {1, 2, 3, 4}\n",
    "\n",
    "numbers.add(4)\n",
    "\n",
    "if 4 in numbers:\n",
    "   numbers.remove(4)\n",
    "\n",
    "numbers.discard(4)  #niazi be check karadn mojood boodan nist\n",
    "\n",
    "copyNumbers = numbers.copy()\n",
    "\n",
    "print(numbers is copyNumbers)\n",
    "\n",
    "numbers.clear()\n",
    "\n",
    "print(numbers)"
   ]
  },
  {
   "cell_type": "code",
   "execution_count": 12,
   "metadata": {},
   "outputs": [
    {
     "name": "stdout",
     "output_type": "stream",
     "text": [
      "{'milad', 'ahmad', 'reza', 'sara', 'mohammad', 'ali'}\n",
      "{'ali', 'mohammad'}\n"
     ]
    }
   ],
   "source": [
    "python = {\"ali\", \"milad\", \"mohammad\", \"sara\"}\n",
    "\n",
    "kotlin = {\"mohammad\", \"ahmad\", \"reza\", \"ali\"}\n",
    "\n",
    "print(python | kotlin) #ejtema\n",
    "\n",
    "print(python & kotlin) #eshterak"
   ]
  },
  {
   "cell_type": "markdown",
   "metadata": {},
   "source": [
    "Set Comprehension"
   ]
  },
  {
   "cell_type": "code",
   "execution_count": 13,
   "metadata": {},
   "outputs": [
    {
     "name": "stdout",
     "output_type": "stream",
     "text": [
      "{'h', 'l', 'w', 'o', 'd', 'e', ' ', 'r'}\n"
     ]
    }
   ],
   "source": [
    "newSet = {x**2 for x in range(10)}\n",
    "\n",
    "characters = {char for char in \"hello world\"}\n",
    "\n",
    "print(characters)"
   ]
  }
 ],
 "metadata": {
  "kernelspec": {
   "display_name": "Python 3",
   "language": "python",
   "name": "python3"
  },
  "language_info": {
   "codemirror_mode": {
    "name": "ipython",
    "version": 3
   },
   "file_extension": ".py",
   "mimetype": "text/x-python",
   "name": "python",
   "nbconvert_exporter": "python",
   "pygments_lexer": "ipython3",
   "version": "3.12.2"
  }
 },
 "nbformat": 4,
 "nbformat_minor": 2
}
