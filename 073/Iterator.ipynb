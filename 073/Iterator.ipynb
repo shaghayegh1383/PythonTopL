{
 "cells": [
  {
   "cell_type": "markdown",
   "metadata": {},
   "source": [
    "Iterable\n",
    "\n",
    "Iterator\n",
    "\n",
    "Iterate"
   ]
  },
  {
   "cell_type": "code",
   "execution_count": 11,
   "metadata": {},
   "outputs": [
    {
     "name": "stdout",
     "output_type": "stream",
     "text": [
      "1\n",
      "2\n",
      "3\n",
      "4\n",
      "5\n"
     ]
    }
   ],
   "source": [
    "numbers = [1,2,3,4,5]\n",
    "colors = ('red' , 'blue' , 'green' , 'black')\n",
    "\n",
    "#for num in numbers:\n",
    "    #print (num)\n",
    "    \n",
    "#iterable => iter() => iterator\n",
    "iterNum = iter(numbers)\n",
    "print(next(iterNum)) \n",
    "print(next(iterNum)) \n",
    "print(next(iterNum)) \n",
    "print(next(iterNum)) \n",
    "print(next(iterNum)) \n",
    "  \n"
   ]
  },
  {
   "cell_type": "code",
   "execution_count": 14,
   "metadata": {},
   "outputs": [
    {
     "name": "stdout",
     "output_type": "stream",
     "text": [
      "s\n",
      "h\n",
      "a\n"
     ]
    }
   ],
   "source": [
    "name = 'shaghayegh'\n",
    "#like for\n",
    "iterName = iter(name)\n",
    "print (next(iterName))\n",
    "print (next(iterName))\n",
    "print (next(iterName))"
   ]
  }
 ],
 "metadata": {
  "kernelspec": {
   "display_name": "Python 3",
   "language": "python",
   "name": "python3"
  },
  "language_info": {
   "codemirror_mode": {
    "name": "ipython",
    "version": 3
   },
   "file_extension": ".py",
   "mimetype": "text/x-python",
   "name": "python",
   "nbconvert_exporter": "python",
   "pygments_lexer": "ipython3",
   "version": "3.12.2"
  }
 },
 "nbformat": 4,
 "nbformat_minor": 2
}
