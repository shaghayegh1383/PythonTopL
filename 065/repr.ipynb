{
 "cells": [
  {
   "cell_type": "code",
   "execution_count": 1,
   "metadata": {},
   "outputs": [
    {
     "name": "stdout",
     "output_type": "stream",
     "text": [
      "<__main__.Users object at 0x000002B54FCE26C0>\n"
     ]
    }
   ],
   "source": [
    "class Users:\n",
    "    def __init__(self , name , family):\n",
    "        self.name = name\n",
    "        self.family = family\n",
    "        \n",
    "me = Users ('shaghayegh' , 'mousavi')\n",
    "print(me)"
   ]
  },
  {
   "cell_type": "markdown",
   "metadata": {},
   "source": [
    "def representation"
   ]
  },
  {
   "cell_type": "code",
   "execution_count": 2,
   "metadata": {},
   "outputs": [
    {
     "name": "stdout",
     "output_type": "stream",
     "text": [
      "shaghayegh mousavi\n"
     ]
    }
   ],
   "source": [
    "class Users:\n",
    "    def __init__(self , name , family):\n",
    "        self.name = name\n",
    "        self.family = family\n",
    "    def __repr__(self):\n",
    "        return f\"{self.name} {self.family}\"\n",
    "        \n",
    "me = Users ('shaghayegh' , 'mousavi')\n",
    "print(me)"
   ]
  },
  {
   "cell_type": "code",
   "execution_count": 3,
   "metadata": {},
   "outputs": [
    {
     "name": "stdout",
     "output_type": "stream",
     "text": [
      "<class '__main__.Users'>\n"
     ]
    }
   ],
   "source": [
    "class Users:\n",
    "    def __init__(self , name , family):\n",
    "        self.name = name\n",
    "        self.family = family\n",
    "    def __repr__(self):\n",
    "        return f\"{self.name} {self.family}\"\n",
    "        \n",
    "me = Users ('shaghayegh' , 'mousavi')\n",
    "print(type(me))"
   ]
  }
 ],
 "metadata": {
  "kernelspec": {
   "display_name": "Python 3",
   "language": "python",
   "name": "python3"
  },
  "language_info": {
   "codemirror_mode": {
    "name": "ipython",
    "version": 3
   },
   "file_extension": ".py",
   "mimetype": "text/x-python",
   "name": "python",
   "nbconvert_exporter": "python",
   "pygments_lexer": "ipython3",
   "version": "3.12.2"
  }
 },
 "nbformat": 4,
 "nbformat_minor": 2
}
