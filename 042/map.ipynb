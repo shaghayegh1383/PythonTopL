{
 "cells": [
  {
   "cell_type": "code",
   "execution_count": 1,
   "metadata": {},
   "outputs": [
    {
     "name": "stdout",
     "output_type": "stream",
     "text": [
      "<map object at 0x0000027CEFFDE320>\n",
      "[2, 4, 6, 8, 10]\n",
      "[]\n"
     ]
    }
   ],
   "source": [
    "numbers = [1, 2, 3, 4, 5]\n",
    "\n",
    "doubles = map(lambda x: x * 2, numbers)\n",
    "\n",
    "print(doubles)\n",
    "\n",
    "print(list(doubles))  #[2, 4, 6, 8, 10]\n",
    "\n",
    "print(list(doubles))  #[]\n",
    "\n",
    "# for num in numbers:\n",
    "#     doubles.append(num * 2)\n",
    "\n",
    "# print(doubles)"
   ]
  },
  {
   "cell_type": "code",
   "execution_count": 2,
   "metadata": {},
   "outputs": [
    {
     "name": "stdout",
     "output_type": "stream",
     "text": [
      "['MOHAMMAD', 'SARA', 'IMAN', 'ALI']\n"
     ]
    }
   ],
   "source": [
    "names = [\"mohammad\", \"sara\", \"iman\", \"ali\"]\n",
    "\n",
    "upperNames = map(lambda name: name.upper(), names)\n",
    "\n",
    "print(list(upperNames))\n"
   ]
  },
  {
   "cell_type": "code",
   "execution_count": 4,
   "metadata": {},
   "outputs": [
    {
     "name": "stdout",
     "output_type": "stream",
     "text": [
      "['Mousavi', 'Serizawa', 'joong woo']\n"
     ]
    }
   ],
   "source": [
    "people = [\n",
    "    {'name': 'Shaghayegh', 'family': 'Mousavi', 'age': 19},\n",
    "    {'name': 'Reira', 'family': 'Serizawa', 'age': 15},\n",
    "    {'name': 'yoo', 'family': 'joong woo', 'age': 30}\n",
    "]\n",
    "\n",
    "# families = map(lambda person: person['family'], people)\n",
    "\n",
    "print(list(map(lambda person: person['family'], people)))\n",
    "\n",
    "# families_2 = []\n",
    "\n",
    "# for person in people:\n",
    "#     families_2.append(person['family'])\n",
    "\n",
    "# print(families_2)"
   ]
  }
 ],
 "metadata": {
  "kernelspec": {
   "display_name": "Python 3",
   "language": "python",
   "name": "python3"
  },
  "language_info": {
   "codemirror_mode": {
    "name": "ipython",
    "version": 3
   },
   "file_extension": ".py",
   "mimetype": "text/x-python",
   "name": "python",
   "nbconvert_exporter": "python",
   "pygments_lexer": "ipython3",
   "version": "3.12.2"
  }
 },
 "nbformat": 4,
 "nbformat_minor": 2
}
