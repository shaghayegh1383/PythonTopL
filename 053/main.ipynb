{
 "cells": [
  {
   "cell_type": "code",
   "execution_count": null,
   "metadata": {},
   "outputs": [
    {
     "name": "stdout",
     "output_type": "stream",
     "text": [
      "     _                 _                            _     \n",
      " ___| |__   __ _  __ _| |__   __ _ _   _  ___  __ _| |__  \n",
      "/ __| '_ \\ / _` |/ _` | '_ \\ / _` | | | |/ _ \\/ _` | '_ \\ \n",
      "\\__ \\ | | | (_| | (_| | | | | (_| | |_| |  __/ (_| | | | |\n",
      "|___/_| |_|\\__,_|\\__, |_| |_|\\__,_|\\__, |\\___|\\__, |_| |_|\n",
      "                 |___/             |___/      |___/       \n",
      "\n"
     ]
    }
   ],
   "source": [
    "import pyfiglet\n",
    "print (pyfiglet.figlet_format ('shaghayegh'))"
   ]
  },
  {
   "cell_type": "code",
   "execution_count": null,
   "metadata": {},
   "outputs": [
    {
     "name": "stdout",
     "output_type": "stream",
     "text": [
      "         __                __                           __  \n",
      "   _____/ /_  ____ _____ _/ /_  ____ ___  _____  ____ _/ /_ \n",
      "  / ___/ __ \\/ __ `/ __ `/ __ \\/ __ `/ / / / _ \\/ __ `/ __ \\\n",
      " (__  ) / / / /_/ / /_/ / / / / /_/ / /_/ /  __/ /_/ / / / /\n",
      "/____/_/ /_/\\__,_/\\__, /_/ /_/\\__,_/\\__, /\\___/\\__, /_/ /_/ \n",
      "                 /____/            /____/     /____/        \n",
      "\n"
     ]
    }
   ],
   "source": [
    "import pyfiglet\n",
    "print (pyfiglet.figlet_format(\"shaghayegh\", font= \"slant\"))\n"
   ]
  }
 ],
 "metadata": {
  "kernelspec": {
   "display_name": "Python 3",
   "language": "python",
   "name": "python3"
  },
  "language_info": {
   "codemirror_mode": {
    "name": "ipython",
    "version": 3
   },
   "file_extension": ".py",
   "mimetype": "text/x-python",
   "name": "python",
   "nbconvert_exporter": "python",
   "pygments_lexer": "ipython3",
   "version": "3.12.2"
  }
 },
 "nbformat": 4,
 "nbformat_minor": 2
}
