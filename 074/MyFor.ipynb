{
 "cells": [
  {
   "cell_type": "code",
   "execution_count": 9,
   "metadata": {},
   "outputs": [
    {
     "name": "stdout",
     "output_type": "stream",
     "text": [
      "1\n",
      "4\n",
      "9\n",
      "16\n"
     ]
    }
   ],
   "source": [
    "# iterable can convert to iterator\n",
    "\n",
    "def my_for(iterable , func):\n",
    "    iterator = iter (iterable)\n",
    "    \n",
    "    while True:\n",
    "        try:\n",
    "            thing = next(iterator)\n",
    "        except StopIteration:\n",
    "                break\n",
    "        else:\n",
    "            func(thing)\n",
    "numbers = [1,2,3,4]\n",
    "def square(num):\n",
    "    print(num**2)\n",
    "\n",
    "my_for (numbers ,square )"
   ]
  }
 ],
 "metadata": {
  "kernelspec": {
   "display_name": "Python 3",
   "language": "python",
   "name": "python3"
  },
  "language_info": {
   "codemirror_mode": {
    "name": "ipython",
    "version": 3
   },
   "file_extension": ".py",
   "mimetype": "text/x-python",
   "name": "python",
   "nbconvert_exporter": "python",
   "pygments_lexer": "ipython3",
   "version": "3.12.2"
  }
 },
 "nbformat": 4,
 "nbformat_minor": 2
}
