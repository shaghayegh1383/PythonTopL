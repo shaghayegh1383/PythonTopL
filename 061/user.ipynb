{
 "cells": [
  {
   "cell_type": "markdown",
   "metadata": {},
   "source": [
    "_name \n",
    "\n",
    "__name --> name mangling\n",
    "\n",
    "__name__"
   ]
  },
  {
   "cell_type": "code",
   "execution_count": 4,
   "metadata": {},
   "outputs": [
    {
     "name": "stdout",
     "output_type": "stream",
     "text": [
      "['_User__message', '__class__', '__delattr__', '__dict__', '__dir__', '__doc__', '__eq__', '__format__', '__ge__', '__getattribute__', '__getstate__', '__gt__', '__hash__', '__init__', '__init_subclass__', '__le__', '__lt__', '__module__', '__ne__', '__new__', '__reduce__', '__reduce_ex__', '__repr__', '__setattr__', '__sizeof__', '__str__', '__subclasshook__', '__weakref__', '_password', 'userName']\n"
     ]
    }
   ],
   "source": [
    "class User:\n",
    "    def __init__(self , userName):\n",
    "      self.userName = userName\n",
    "      self._password = '123'\n",
    "      self.__message = 'I love python'\n",
    "      \n",
    "      def login(self , gotPassword):\n",
    "          if self._password == gotPassword:\n",
    "              print ('logged in')\n",
    "          else:\n",
    "              print('You are not logged in')\n",
    "me = User('shaghayegh')\n",
    "#print(me.__message) --> (private) the name has changed to _User__message\n",
    "print(dir(me))\n",
    "           \n",
    "      "
   ]
  }
 ],
 "metadata": {
  "kernelspec": {
   "display_name": "Python 3",
   "language": "python",
   "name": "python3"
  },
  "language_info": {
   "codemirror_mode": {
    "name": "ipython",
    "version": 3
   },
   "file_extension": ".py",
   "mimetype": "text/x-python",
   "name": "python",
   "nbconvert_exporter": "python",
   "pygments_lexer": "ipython3",
   "version": "3.12.2"
  }
 },
 "nbformat": 4,
 "nbformat_minor": 2
}
