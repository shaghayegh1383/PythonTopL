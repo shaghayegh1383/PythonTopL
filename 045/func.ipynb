{
 "cells": [
  {
   "cell_type": "markdown",
   "metadata": {},
   "source": [
    "Abs"
   ]
  },
  {
   "cell_type": "code",
   "execution_count": 1,
   "metadata": {},
   "outputs": [
    {
     "name": "stdout",
     "output_type": "stream",
     "text": [
      "5\n"
     ]
    }
   ],
   "source": [
    "# absolute value\n",
    "\n",
    "number = -5\n",
    "\n",
    "print(abs(number))"
   ]
  },
  {
   "cell_type": "code",
   "execution_count": 5,
   "metadata": {},
   "outputs": [
    {
     "name": "stdout",
     "output_type": "stream",
     "text": [
      "50\n"
     ]
    }
   ],
   "source": [
    "data = \"Something\"\n",
    "data = [1, 2, 3, 4, 5]\n",
    "data = (3, 4, 5, 6, 7, 8, 9)\n",
    "\n",
    "#print(len(data))\n",
    "#print(data.__len__())\n",
    "\n",
    "\n",
    "class MyList:\n",
    "     def __init__(self, data):\n",
    "         self.__data = data\n",
    "\n",
    "     def __len__(self):\n",
    "         return 50\n",
    "\n",
    "\n",
    "test = MyList([23, 4, 5, 6, 7, 4, 3])\n",
    "\n",
    "print(len(test))\n",
    "\n"
   ]
  }
 ],
 "metadata": {
  "kernelspec": {
   "display_name": "Python 3",
   "language": "python",
   "name": "python3"
  },
  "language_info": {
   "codemirror_mode": {
    "name": "ipython",
    "version": 3
   },
   "file_extension": ".py",
   "mimetype": "text/x-python",
   "name": "python",
   "nbconvert_exporter": "python",
   "pygments_lexer": "ipython3",
   "version": "3.12.2"
  }
 },
 "nbformat": 4,
 "nbformat_minor": 2
}
