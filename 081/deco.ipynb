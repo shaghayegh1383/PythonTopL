{
 "cells": [
  {
   "cell_type": "markdown",
   "metadata": {},
   "source": [
    "رفع مشکل تغییر نام فانکشن"
   ]
  },
  {
   "cell_type": "code",
   "execution_count": 3,
   "metadata": {},
   "outputs": [
    {
     "name": "stdout",
     "output_type": "stream",
     "text": [
      "function name is sayHello\n",
      "Hello shaghayegh mousavi\n",
      "Help on function sayHello in module __main__:\n",
      "\n",
      "sayHello(name, family)\n",
      "\n",
      "sayHello\n",
      "None\n"
     ]
    }
   ],
   "source": [
    "from functools import wraps\n",
    "def myDecorator (func):\n",
    "    @wraps(func)\n",
    "    def myWrapper(*args , **kwargs):\n",
    "        print (f\"function name is {func.__name__}\")\n",
    "        return func (*args,**kwargs)\n",
    "    return myWrapper\n",
    "\n",
    "@myDecorator\n",
    "def sayHello(name,family):\n",
    "    print (f\"Hello {name} {family}\")\n",
    "    \n",
    "sayHello ('shaghayegh', 'mousavi')\n",
    "\n",
    "help(sayHello)\n",
    "print(sayHello.__name__)\n",
    "print(sayHello.__doc__)"
   ]
  }
 ],
 "metadata": {
  "kernelspec": {
   "display_name": "Python 3",
   "language": "python",
   "name": "python3"
  },
  "language_info": {
   "codemirror_mode": {
    "name": "ipython",
    "version": 3
   },
   "file_extension": ".py",
   "mimetype": "text/x-python",
   "name": "python",
   "nbconvert_exporter": "python",
   "pygments_lexer": "ipython3",
   "version": "3.12.2"
  }
 },
 "nbformat": 4,
 "nbformat_minor": 2
}
