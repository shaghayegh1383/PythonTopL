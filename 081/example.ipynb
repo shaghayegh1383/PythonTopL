{
 "cells": [
  {
   "cell_type": "markdown",
   "metadata": {},
   "source": [
    "Decorator Factory"
   ]
  },
  {
   "cell_type": "code",
   "execution_count": 3,
   "metadata": {},
   "outputs": [
    {
     "name": "stdout",
     "output_type": "stream",
     "text": [
      "you dont have permission\n"
     ]
    }
   ],
   "source": [
    "from functools import wraps\n",
    "def show_decorator(is_show):\n",
    "     def inner_decorator(func):\n",
    "         @wraps(func)\n",
    "         def wrapper():\n",
    "             if is_show:\n",
    "                 func()\n",
    "             else:\n",
    "                 print(\"you dont have permission\")\n",
    "\n",
    "         return wrapper\n",
    "\n",
    "     return inner_decorator\n",
    "\n",
    "\n",
    "@show_decorator(False)\n",
    "def go_to_admin_page():\n",
    "     print(\"this is admin page\")\n",
    "\n",
    "\n",
    "go_to_admin_page()"
   ]
  },
  {
   "cell_type": "code",
   "execution_count": 13,
   "metadata": {},
   "outputs": [
    {
     "name": "stdout",
     "output_type": "stream",
     "text": [
      "shaghayegh\n"
     ]
    },
    {
     "data": {
      "text/plain": [
       "<function __main__.show_name(name)>"
      ]
     },
     "execution_count": 13,
     "metadata": {},
     "output_type": "execute_result"
    }
   ],
   "source": [
    "from functools import wraps\n",
    "def check_strings_length(charactersCount):\n",
    "    def inner_decorator(func):\n",
    "        @wraps(func)\n",
    "        def wrapper (name):\n",
    "            if len(name) > charactersCount:\n",
    "                raise ValueError\n",
    "            else:\n",
    "                func(name)\n",
    "            return func\n",
    "        return wrapper\n",
    "    return inner_decorator\n",
    "\n",
    "\n",
    "@check_strings_length(20)\n",
    "def show_name(name):\n",
    "    print(name)\n",
    "    \n",
    "show_name('shaghayegh')"
   ]
  }
 ],
 "metadata": {
  "kernelspec": {
   "display_name": "Python 3",
   "language": "python",
   "name": "python3"
  },
  "language_info": {
   "codemirror_mode": {
    "name": "ipython",
    "version": 3
   },
   "file_extension": ".py",
   "mimetype": "text/x-python",
   "name": "python",
   "nbconvert_exporter": "python",
   "pygments_lexer": "ipython3",
   "version": "3.12.2"
  }
 },
 "nbformat": 4,
 "nbformat_minor": 2
}
