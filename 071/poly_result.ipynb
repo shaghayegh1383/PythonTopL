{
 "cells": [
  {
   "cell_type": "code",
   "execution_count": 3,
   "metadata": {},
   "outputs": [
    {
     "name": "stdout",
     "output_type": "stream",
     "text": [
      "dog makes sound\n",
      "Cat makes sound\n",
      "worm does not make any sound\n"
     ]
    }
   ],
   "source": [
    "class Animal:\n",
    "    def makeSound(self):\n",
    "        raise NotImplementedError\n",
    "    \n",
    "class Dog(Animal):\n",
    "    def makeSound (self):\n",
    "        return \"dog makes sound\"\n",
    "    \n",
    "class Cat(Animal):\n",
    "    def makeSound (self):\n",
    "        return \"Cat makes sound\"\n",
    "    \n",
    "class Worm (Animal):\n",
    "    def makeSound(self):\n",
    "        return 'worm does not make any sound'\n",
    "    \n",
    "dog = Dog()\n",
    "cat = Cat()\n",
    "worm = Worm()\n",
    "\n",
    "print (dog.makeSound())\n",
    "print (cat.makeSound())\n",
    "print (worm.makeSound())\n"
   ]
  }
 ],
 "metadata": {
  "kernelspec": {
   "display_name": "Python 3",
   "language": "python",
   "name": "python3"
  },
  "language_info": {
   "codemirror_mode": {
    "name": "ipython",
    "version": 3
   },
   "file_extension": ".py",
   "mimetype": "text/x-python",
   "name": "python",
   "nbconvert_exporter": "python",
   "pygments_lexer": "ipython3",
   "version": "3.12.2"
  }
 },
 "nbformat": 4,
 "nbformat_minor": 2
}
