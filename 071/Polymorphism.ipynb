{
 "cells": [
  {
   "cell_type": "markdown",
   "metadata": {},
   "source": [
    "poly => mult\n",
    "\n",
    "morth => form\n",
    "\n"
   ]
  },
  {
   "cell_type": "code",
   "execution_count": 1,
   "metadata": {},
   "outputs": [
    {
     "name": "stdout",
     "output_type": "stream",
     "text": [
      "[1, 2, 3, 4, 5]\n",
      "5\n"
     ]
    }
   ],
   "source": [
    "#example\n",
    "numbers = [ 1 , 2 , 3 , 4 , 5]\n",
    "myNums = [ 1 , 2 , 3 , 4 , 5]\n",
    "\n",
    "person = {\n",
    "    'name' : 'shaghayegh',\n",
    "    'family' : 'mousavi'\n",
    "}\n",
    "\n",
    "print (numbers.copy())\n",
    "print (len(numbers))"
   ]
  },
  {
   "cell_type": "code",
   "execution_count": 5,
   "metadata": {},
   "outputs": [
    {
     "name": "stdout",
     "output_type": "stream",
     "text": [
      "dog makes sound\n",
      "Cat makes sound\n"
     ]
    }
   ],
   "source": [
    "class Dog:\n",
    "    def makeSound (self):\n",
    "        return \"dog makes sound\"\n",
    "    \n",
    "class Cat:\n",
    "    def makeSound (self):\n",
    "        return \"Cat makes sound\"\n",
    "dog = Dog()\n",
    "print (dog.makeSound())\n",
    "\n",
    "cat = Cat()\n",
    "print (cat.makeSound())"
   ]
  }
 ],
 "metadata": {
  "kernelspec": {
   "display_name": "Python 3",
   "language": "python",
   "name": "python3"
  },
  "language_info": {
   "codemirror_mode": {
    "name": "ipython",
    "version": 3
   },
   "file_extension": ".py",
   "mimetype": "text/x-python",
   "name": "python",
   "nbconvert_exporter": "python",
   "pygments_lexer": "ipython3",
   "version": "3.12.2"
  }
 },
 "nbformat": 4,
 "nbformat_minor": 2
}
