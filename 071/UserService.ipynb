{
 "cells": [
  {
   "cell_type": "code",
   "execution_count": 1,
   "metadata": {},
   "outputs": [
    {
     "name": "stdout",
     "output_type": "stream",
     "text": [
      "get all users from sql server\n"
     ]
    }
   ],
   "source": [
    "class IUserService:\n",
    "    \n",
    "    def getAllUsers (self):\n",
    "        raise NotImplementedError\n",
    "    \n",
    "    def getUserByID (self):\n",
    "        raise NotImplementedError\n",
    "    \n",
    "    def createNewUser (self):\n",
    "        raise NotImplementedError\n",
    "    \n",
    "class UserServiceBySql (IUserService):\n",
    "    def getAllUsers(self):\n",
    "        print ('get all users from sql server')\n",
    "\n",
    "class UserServiceByOracle (IUserService):\n",
    "    pass\n",
    "\n",
    "userService = UserServiceBySql() \n",
    "userService.getAllUsers()"
   ]
  },
  {
   "cell_type": "code",
   "execution_count": 2,
   "metadata": {},
   "outputs": [
    {
     "ename": "NotImplementedError",
     "evalue": "",
     "output_type": "error",
     "traceback": [
      "\u001b[1;31m---------------------------------------------------------------------------\u001b[0m",
      "\u001b[1;31mNotImplementedError\u001b[0m                       Traceback (most recent call last)",
      "Cell \u001b[1;32mIn[2], line 2\u001b[0m\n\u001b[0;32m      1\u001b[0m userService_2 \u001b[38;5;241m=\u001b[39m UserServiceByOracle()\n\u001b[1;32m----> 2\u001b[0m \u001b[43muserService_2\u001b[49m\u001b[38;5;241;43m.\u001b[39;49m\u001b[43mgetAllUsers\u001b[49m\u001b[43m(\u001b[49m\u001b[43m)\u001b[49m\n",
      "Cell \u001b[1;32mIn[1], line 4\u001b[0m, in \u001b[0;36mIUserService.getAllUsers\u001b[1;34m(self)\u001b[0m\n\u001b[0;32m      3\u001b[0m \u001b[38;5;28;01mdef\u001b[39;00m \u001b[38;5;21mgetAllUsers\u001b[39m (\u001b[38;5;28mself\u001b[39m):\n\u001b[1;32m----> 4\u001b[0m     \u001b[38;5;28;01mraise\u001b[39;00m \u001b[38;5;167;01mNotImplementedError\u001b[39;00m\n",
      "\u001b[1;31mNotImplementedError\u001b[0m: "
     ]
    }
   ],
   "source": [
    "userService_2 = UserServiceByOracle()\n",
    "userService_2.getAllUsers()"
   ]
  }
 ],
 "metadata": {
  "kernelspec": {
   "display_name": "Python 3",
   "language": "python",
   "name": "python3"
  },
  "language_info": {
   "codemirror_mode": {
    "name": "ipython",
    "version": 3
   },
   "file_extension": ".py",
   "mimetype": "text/x-python",
   "name": "python",
   "nbconvert_exporter": "python",
   "pygments_lexer": "ipython3",
   "version": "3.12.2"
  }
 },
 "nbformat": 4,
 "nbformat_minor": 2
}
