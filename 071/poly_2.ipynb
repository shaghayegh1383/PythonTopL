{
 "cells": [
  {
   "cell_type": "code",
   "execution_count": 2,
   "metadata": {},
   "outputs": [
    {
     "name": "stdout",
     "output_type": "stream",
     "text": [
      "sls is moving\n",
      "x4 is moving\n"
     ]
    }
   ],
   "source": [
    "class Benz:\n",
    "    def __init__(self , model):\n",
    "        self.model = model\n",
    "    def move(self):\n",
    "        print (f\"{self.model} is moving\")\n",
    "        \n",
    "class BMW:\n",
    "    def __init__(self , model):\n",
    "        self.model = model\n",
    "    def move(self):\n",
    "        print (f\"{self.model} is moving\")\n",
    "\n",
    "sls = Benz ('sls')\n",
    "x4 = BMW ('x4')\n",
    "\n",
    "sls.move()\n",
    "x4.move()\n",
    "        "
   ]
  }
 ],
 "metadata": {
  "kernelspec": {
   "display_name": "Python 3",
   "language": "python",
   "name": "python3"
  },
  "language_info": {
   "codemirror_mode": {
    "name": "ipython",
    "version": 3
   },
   "file_extension": ".py",
   "mimetype": "text/x-python",
   "name": "python",
   "nbconvert_exporter": "python",
   "pygments_lexer": "ipython3",
   "version": "3.12.2"
  }
 },
 "nbformat": 4,
 "nbformat_minor": 2
}
