{
 "cells": [
  {
   "cell_type": "code",
   "execution_count": 2,
   "metadata": {},
   "outputs": [
    {
     "name": "stdout",
     "output_type": "stream",
     "text": [
      "0.05150103569030762\n"
     ]
    }
   ],
   "source": [
    "from time import time\n",
    "startTime = time()\n",
    "sum ((num for num in range(200000)))\n",
    "endTime = time()\n",
    "\n",
    "print (endTime - startTime)\n"
   ]
  },
  {
   "cell_type": "code",
   "execution_count": 5,
   "metadata": {},
   "outputs": [
    {
     "name": "stdout",
     "output_type": "stream",
     "text": [
      "Time elapsed 0.03630852699279785\n"
     ]
    }
   ],
   "source": [
    "def speed_test_decorator (func):\n",
    "    def wrapper(*args , **kwargs):\n",
    "        startTime = time()\n",
    "        result = func (*args,**kwargs)\n",
    "        endTime = time()\n",
    "        print (f\"Time elapsed {endTime - startTime}\")\n",
    "        \n",
    "    return wrapper\n",
    "\n",
    "@speed_test_decorator\n",
    "def sum_nums():\n",
    "    return sum (x for x in range(200000))\n",
    "\n",
    "sum_nums()"
   ]
  }
 ],
 "metadata": {
  "kernelspec": {
   "display_name": "Python 3",
   "language": "python",
   "name": "python3"
  },
  "language_info": {
   "codemirror_mode": {
    "name": "ipython",
    "version": 3
   },
   "file_extension": ".py",
   "mimetype": "text/x-python",
   "name": "python",
   "nbconvert_exporter": "python",
   "pygments_lexer": "ipython3",
   "version": "3.12.2"
  }
 },
 "nbformat": 4,
 "nbformat_minor": 2
}
