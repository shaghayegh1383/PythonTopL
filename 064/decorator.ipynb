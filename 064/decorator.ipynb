{
 "cells": [
  {
   "cell_type": "code",
   "execution_count": 10,
   "metadata": {},
   "outputs": [
    {
     "name": "stdout",
     "output_type": "stream",
     "text": [
      "There are currently 0 active users\n"
     ]
    }
   ],
   "source": [
    "class Users:\n",
    "    activeUsers = 0\n",
    "    def __init__(self , name , family):...\n",
    "    def logout(self):...\n",
    "    \n",
    "    @classmethod\n",
    "    def getActiveUsersCount(cls):\n",
    "        print(f\"There are currently {cls.activeUsers} active users\")\n",
    "        \n",
    "Users.getActiveUsersCount()\n",
    "        "
   ]
  },
  {
   "cell_type": "code",
   "execution_count": null,
   "metadata": {},
   "outputs": [],
   "source": [
    "class Users:\n",
    "    activeUsers = 0\n",
    "    def __init__(self , name , family):...\n",
    "    def logout(self):...\n",
    "    \n",
    "    @classmethod\n",
    "    def getActiveUsersCount(cls):\n",
    "        print(f\"There are currently {cls.activeUsers} active users\")\n",
    "        \n",
    "Users.getActiveUsersCount()\n",
    "me = Users('shaghayegh' , 'mousavi')\n",
    "you = Users('Reira' , 'Serizawa')\n",
    "me.getActiveUsersCount()"
   ]
  }
 ],
 "metadata": {
  "kernelspec": {
   "display_name": "Python 3",
   "language": "python",
   "name": "python3"
  },
  "language_info": {
   "codemirror_mode": {
    "name": "ipython",
    "version": 3
   },
   "file_extension": ".py",
   "mimetype": "text/x-python",
   "name": "python",
   "nbconvert_exporter": "python",
   "pygments_lexer": "ipython3",
   "version": "3.12.2"
  }
 },
 "nbformat": 4,
 "nbformat_minor": 2
}
