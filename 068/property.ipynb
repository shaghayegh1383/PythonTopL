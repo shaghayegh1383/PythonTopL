{
 "cells": [
  {
   "cell_type": "markdown",
   "metadata": {},
   "source": [
    "Getter function"
   ]
  },
  {
   "cell_type": "code",
   "execution_count": 4,
   "metadata": {},
   "outputs": [
    {
     "name": "stdout",
     "output_type": "stream",
     "text": [
      "20\n"
     ]
    }
   ],
   "source": [
    "class Person:\n",
    "\n",
    "    def __init__(self, name, family, age):\n",
    "        self.name = name\n",
    "        self.family = family\n",
    "        if age >= 0:\n",
    "            self._age = age\n",
    "        else:\n",
    "            self._age = 0\n",
    "\n",
    "    # # getter function\n",
    "    def get_age(self):\n",
    "         return self._age\n",
    "\n",
    "me = Person('shaghayegh', 'mousavi', 20)\n",
    "\n",
    "print(me.get_age())"
   ]
  },
  {
   "cell_type": "markdown",
   "metadata": {},
   "source": [
    "Setter function"
   ]
  },
  {
   "cell_type": "code",
   "execution_count": 5,
   "metadata": {},
   "outputs": [
    {
     "name": "stdout",
     "output_type": "stream",
     "text": [
      "20\n"
     ]
    }
   ],
   "source": [
    "class Person:\n",
    "\n",
    "    def __init__(self, name, family, age):\n",
    "        self.name = name\n",
    "        self.family = family\n",
    "        if age >= 0:\n",
    "            self._age = age\n",
    "        else:\n",
    "            self._age = 0\n",
    "    def set_age(self, ageValue):\n",
    "     if ageValue >= 0:\n",
    "             self._age = ageValue\n",
    "     else:\n",
    "       raise ValueError('age can not be negative')\n",
    "print (me._age)\n"
   ]
  },
  {
   "cell_type": "code",
   "execution_count": 12,
   "metadata": {},
   "outputs": [
    {
     "name": "stdout",
     "output_type": "stream",
     "text": [
      "shaghayegh mousavi\n"
     ]
    }
   ],
   "source": [
    "class Person:\n",
    "\n",
    "    def __init__(self, name, family, age):\n",
    "        self.name = name\n",
    "        self.family = family\n",
    "        if age >= 0:\n",
    "            self._age = age\n",
    "        else:\n",
    "            self._age = 0\n",
    "\n",
    "    @property\n",
    "    def age(self):\n",
    "        return self._age\n",
    "\n",
    "    @age.setter\n",
    "    def age(self, value):\n",
    "        if value >= 0:\n",
    "            self._age = value\n",
    "        else:\n",
    "            raise ValueError('age can not be negative')\n",
    "        \n",
    "    @property\n",
    "    def fullName(self):\n",
    "        return f\"{self.name} {self.family}\"\n",
    "\n",
    "    def showFullName(self):\n",
    "        return f\"{self.name} {self.family}\"\n",
    "me = Person('shaghayegh', 'mousavi', 20)  \n",
    "print (me.fullName)\n",
    "\n"
   ]
  }
 ],
 "metadata": {
  "kernelspec": {
   "display_name": "Python 3",
   "language": "python",
   "name": "python3"
  },
  "language_info": {
   "codemirror_mode": {
    "name": "ipython",
    "version": 3
   },
   "file_extension": ".py",
   "mimetype": "text/x-python",
   "name": "python",
   "nbconvert_exporter": "python",
   "pygments_lexer": "ipython3",
   "version": "3.12.2"
  }
 },
 "nbformat": 4,
 "nbformat_minor": 2
}
