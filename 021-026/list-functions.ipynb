{
 "cells": [
  {
   "cell_type": "markdown",
   "metadata": {},
   "source": [
    "Session 23"
   ]
  },
  {
   "cell_type": "code",
   "execution_count": 15,
   "metadata": {},
   "outputs": [
    {
     "name": "stdout",
     "output_type": "stream",
     "text": [
      "['Python', 'Kotlin', 'Ionic']\n"
     ]
    }
   ],
   "source": [
    "myCourses = [\"Python\", \"Kotlin\", \"Ionic\"]\n",
    "\n",
    "print(myCourses)"
   ]
  },
  {
   "cell_type": "code",
   "execution_count": 12,
   "metadata": {},
   "outputs": [
    {
     "name": "stdout",
     "output_type": "stream",
     "text": [
      "['Python', 'Kotlin', 'Ionic', ['JQuery', 'Vue js']]\n"
     ]
    }
   ],
   "source": [
    "#append functionn => for adding  just one item to the end of the list\n",
    "myCourses = [\"Python\", \"Kotlin\", \"Ionic\"]\n",
    "myCourses_2 = [\"JQuery\", \"Vue js\"]\n",
    "myCourses.append(myCourses_2)\n",
    "print(myCourses)\n"
   ]
  },
  {
   "cell_type": "code",
   "execution_count": 13,
   "metadata": {},
   "outputs": [
    {
     "name": "stdout",
     "output_type": "stream",
     "text": [
      "['Python', 'Kotlin', 'Ionic', 'JQuery', 'Vue js']\n"
     ]
    }
   ],
   "source": [
    "#extend function => for adding more than one item to the end of the list\n",
    "myCourses = [\"Python\", \"Kotlin\", \"Ionic\"]\n",
    "myCourses.extend([\"JQuery\", \"Vue js\"])\n",
    "print(myCourses)\n"
   ]
  },
  {
   "cell_type": "code",
   "execution_count": 14,
   "metadata": {},
   "outputs": [
    {
     "name": "stdout",
     "output_type": "stream",
     "text": [
      "['Python', 'Kotlin', 'JQuery', 'Ionic']\n",
      "number of list items is : 4\n"
     ]
    }
   ],
   "source": [
    "#insert => for adding item at where you want\n",
    "myCourses = [\"Python\", \"Kotlin\", \"Ionic\"]\n",
    "myCourses.insert(-1,\"JQuery\")\n",
    "\n",
    "print(myCourses)\n",
    "print(f\"number of list items is : {len(myCourses)}\")\n"
   ]
  }
 ],
 "metadata": {
  "kernelspec": {
   "display_name": "Python 3",
   "language": "python",
   "name": "python3"
  },
  "language_info": {
   "codemirror_mode": {
    "name": "ipython",
    "version": 3
   },
   "file_extension": ".py",
   "mimetype": "text/x-python",
   "name": "python",
   "nbconvert_exporter": "python",
   "pygments_lexer": "ipython3",
   "version": "3.12.2"
  }
 },
 "nbformat": 4,
 "nbformat_minor": 2
}
