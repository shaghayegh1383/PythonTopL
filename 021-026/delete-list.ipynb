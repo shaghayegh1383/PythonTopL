{
 "cells": [
  {
   "cell_type": "code",
   "execution_count": null,
   "metadata": {},
   "outputs": [],
   "source": [
    "# clear() => remove all elements \n",
    "myCourses = [\"Python\", \"Kotlin\", \"Ionic\", \"Kotlin\"]\n",
    "\n",
    "print(myCourses.clear())"
   ]
  },
  {
   "cell_type": "code",
   "execution_count": 5,
   "metadata": {},
   "outputs": [
    {
     "name": "stdout",
     "output_type": "stream",
     "text": [
      "['Kotlin', 'Ionic']\n",
      "first item is Python\n",
      "last item is Kotlin\n"
     ]
    }
   ],
   "source": [
    "#pop()\n",
    "#POINT: If you don't select the index the last of the list will be remove\n",
    "myCourses = [\"Python\", \"Kotlin\", \"Ionic\", \"Kotlin\"]\n",
    "last_item = myCourses.pop()\n",
    "first_item = myCourses.pop(0)\n",
    "print(myCourses)\n",
    "print(f'first item is {first_item}')\n",
    "print(f'last item is {last_item}')\n",
    "\n",
    "\n",
    "\n"
   ]
  },
  {
   "cell_type": "code",
   "execution_count": 7,
   "metadata": {},
   "outputs": [
    {
     "name": "stdout",
     "output_type": "stream",
     "text": [
      "['Python', 'Ionic', 'Kotlin']\n"
     ]
    }
   ],
   "source": [
    "#remove()\n",
    "myCourses = [\"Python\", \"Kotlin\", \"Ionic\", \"Kotlin\"]\n",
    "\n",
    "myCourses.remove(\"Kotlin\")\n",
    "\n",
    "print(myCourses)\n"
   ]
  }
 ],
 "metadata": {
  "kernelspec": {
   "display_name": "Python 3",
   "language": "python",
   "name": "python3"
  },
  "language_info": {
   "codemirror_mode": {
    "name": "ipython",
    "version": 3
   },
   "file_extension": ".py",
   "mimetype": "text/x-python",
   "name": "python",
   "nbconvert_exporter": "python",
   "pygments_lexer": "ipython3",
   "version": "3.12.2"
  }
 },
 "nbformat": 4,
 "nbformat_minor": 2
}
