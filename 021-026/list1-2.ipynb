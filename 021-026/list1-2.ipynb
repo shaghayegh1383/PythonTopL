{
 "cells": [
  {
   "cell_type": "markdown",
   "metadata": {},
   "source": [
    "Session21"
   ]
  },
  {
   "cell_type": "code",
   "execution_count": null,
   "metadata": {},
   "outputs": [],
   "source": [
    "# list\n",
    "\n",
    "item1 = \"python\"\n",
    "item2 = \"ionic\"\n",
    "item3 = \"kotlin\"\n",
    "item4 = \"JQuery\"\n",
    "\n",
    "myList = [item1, item2, item3, item4]\n",
    "\n",
    "isExistKotlin = \"Kotlin\" in myList\n",
    "\n",
    "print(isExistKotlin)"
   ]
  },
  {
   "cell_type": "code",
   "execution_count": null,
   "metadata": {},
   "outputs": [],
   "source": [
    "item1 = \"python\"\n",
    "item2 = \"ionic\"\n",
    "item3 = \"kotlin\"\n",
    "item4 = \"JQuery\"\n",
    "\n",
    "myList = [item1, item2, item3, item4]\n",
    "\n",
    "print(len(myList))\n",
    "\n",
    "print(myList[len(myList) - 1])\n",
    "print(myList[-5])\n",
    "\n",
    "\n",
    "myRange = range(30)\n",
    "print(list(myRange))"
   ]
  },
  {
   "cell_type": "markdown",
   "metadata": {},
   "source": [
    "Session22\n",
    "\n",
    "myColors length = 7\n",
    "\n",
    "myColors Last Index = 6\n",
    "\n",
    "Outputs are the same\n",
    "\n"
   ]
  },
  {
   "cell_type": "code",
   "execution_count": null,
   "metadata": {},
   "outputs": [],
   "source": [
    "myColors = [\"red\", \"blue\", \"green\", \"gray\", \"yellow\", \"orange\", 3.6]\n",
    "\n",
    "for color in myColors:\n",
    "    if type(color) == str:\n",
    "        print(f\"the color is : {color}\")\n",
    "    else:\n",
    "        print(f\"{color} is not a color\")\n"
   ]
  },
  {
   "cell_type": "code",
   "execution_count": 5,
   "metadata": {},
   "outputs": [
    {
     "name": "stdout",
     "output_type": "stream",
     "text": [
      "the color is : red\n",
      "the color is : blue\n",
      "the color is : green\n",
      "the color is : gray\n",
      "the color is : yellow\n",
      "the color is : orange\n",
      "3.6 is not a color\n"
     ]
    }
   ],
   "source": [
    "myColors = [\"red\", \"blue\", \"green\", \"gray\", \"yellow\", \"orange\", 3.6]\n",
    "index = 0\n",
    "while index < len(myColors):\n",
    "    color = myColors[index]\n",
    "    if type(color) == str:\n",
    "            print(f\"the color is : {color}\")\n",
    "    else:\n",
    "        print(f\"{color} is not a color\")\n",
    "        \n",
    "    index += 1"
   ]
  }
 ],
 "metadata": {
  "kernelspec": {
   "display_name": "Python 3",
   "language": "python",
   "name": "python3"
  },
  "language_info": {
   "codemirror_mode": {
    "name": "ipython",
    "version": 3
   },
   "file_extension": ".py",
   "mimetype": "text/x-python",
   "name": "python",
   "nbconvert_exporter": "python",
   "pygments_lexer": "ipython3",
   "version": "3.12.2"
  }
 },
 "nbformat": 4,
 "nbformat_minor": 2
}
