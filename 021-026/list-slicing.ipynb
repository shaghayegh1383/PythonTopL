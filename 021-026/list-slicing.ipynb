{
 "cells": [
  {
   "cell_type": "markdown",
   "metadata": {},
   "source": [
    "list slicing => to make a copy of a list"
   ]
  },
  {
   "cell_type": "code",
   "execution_count": 4,
   "metadata": {},
   "outputs": [
    {
     "name": "stdout",
     "output_type": "stream",
     "text": [
      "[2, 3, 4, 5, 6, 7, 8, 9]\n"
     ]
    }
   ],
   "source": [
    "myNumbers = [ 1 , 2 , 3 , 4 , 5 , 6 , 7 , 8 , 9 ]\n",
    "selectedNumbers = myNumbers[1]\n",
    "\n",
    "#some_list[start:end:step]\n",
    "#selectedNumbersFromList = myNumbers[1:6:1]\n",
    "selectedNumbersFromList = myNumbers[1:]  #ta akharesh neshoon mide\n",
    "\n",
    "print(selectedNumbersFromList) "
   ]
  }
 ],
 "metadata": {
  "kernelspec": {
   "display_name": "Python 3",
   "language": "python",
   "name": "python3"
  },
  "language_info": {
   "codemirror_mode": {
    "name": "ipython",
    "version": 3
   },
   "file_extension": ".py",
   "mimetype": "text/x-python",
   "name": "python",
   "nbconvert_exporter": "python",
   "pygments_lexer": "ipython3",
   "version": "3.12.2"
  }
 },
 "nbformat": 4,
 "nbformat_minor": 2
}
