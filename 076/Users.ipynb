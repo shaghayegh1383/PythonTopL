{
 "cells": [
  {
   "cell_type": "code",
   "execution_count": 6,
   "metadata": {},
   "outputs": [
    {
     "name": "stdout",
     "output_type": "stream",
     "text": [
      "shaghayegh is logged out\n",
      "{'name': 'shaghayegh', 'age': 20}\n",
      "[{'name': 'shaghayegh', 'age': 20}]\n"
     ]
    }
   ],
   "source": [
    "class Users:\n",
    "    ActiveUsers = []\n",
    "    \n",
    "    def __init__(self , name , age):\n",
    "       self.name = name\n",
    "       self.age = age \n",
    "       \n",
    "       userdic = {\n",
    "           'name':name,\n",
    "           'age': age\n",
    "       }\n",
    "       Users.ActiveUsers.append (userdic)\n",
    "       \n",
    "    def logout(self):\n",
    "        print (f\"{self.name} is logged out\")\n",
    "        currentUser = list(filter (lambda user: user['name'] == self.name , Users.ActiveUsers))[0]\n",
    "        print (currentUser)\n",
    "        \n",
    "me = Users ('shaghayegh' , 20)\n",
    "me.logout()\n",
    "print (Users.ActiveUsers)"
   ]
  }
 ],
 "metadata": {
  "kernelspec": {
   "display_name": "Python 3",
   "language": "python",
   "name": "python3"
  },
  "language_info": {
   "codemirror_mode": {
    "name": "ipython",
    "version": 3
   },
   "file_extension": ".py",
   "mimetype": "text/x-python",
   "name": "python",
   "nbconvert_exporter": "python",
   "pygments_lexer": "ipython3",
   "version": "3.12.2"
  }
 },
 "nbformat": 4,
 "nbformat_minor": 2
}
