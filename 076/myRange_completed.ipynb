{
 "cells": [
  {
   "cell_type": "code",
   "execution_count": 2,
   "metadata": {},
   "outputs": [
    {
     "name": "stdout",
     "output_type": "stream",
     "text": [
      "1\n",
      "3\n",
      "5\n",
      "7\n",
      "9\n"
     ]
    }
   ],
   "source": [
    "class Counter:\n",
    "    def __init__(self , start , end , step):\n",
    "        self.current = start\n",
    "        self.end = end\n",
    "        self.step = step\n",
    "        \n",
    "    def __iter__(self): #polymorphism\n",
    "        return self\n",
    "    \n",
    "    def __next__(self):\n",
    "        if self.current < self.end:\n",
    "            num = self.current\n",
    "            self.current += self.step\n",
    "            return num\n",
    "        raise StopIteration\n",
    "    \n",
    "myCounter = Counter(1,10,2)\n",
    "iter(myCounter)\n",
    "\n",
    "for num in myCounter:\n",
    "    print (num)    "
   ]
  }
 ],
 "metadata": {
  "kernelspec": {
   "display_name": "Python 3",
   "language": "python",
   "name": "python3"
  },
  "language_info": {
   "codemirror_mode": {
    "name": "ipython",
    "version": 3
   },
   "file_extension": ".py",
   "mimetype": "text/x-python",
   "name": "python",
   "nbconvert_exporter": "python",
   "pygments_lexer": "ipython3",
   "version": "3.12.2"
  }
 },
 "nbformat": 4,
 "nbformat_minor": 2
}
