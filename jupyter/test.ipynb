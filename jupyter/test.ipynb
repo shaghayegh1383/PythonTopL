{
 "cells": [
  {
   "cell_type": "code",
   "execution_count": 2,
   "metadata": {},
   "outputs": [
    {
     "name": "stdout",
     "output_type": "stream",
     "text": [
      "1\n",
      "2\n",
      "3\n",
      "4\n",
      "this is over\n"
     ]
    }
   ],
   "source": [
    "number = 1\n",
    "while number <= 10:\n",
    "    print(number)\n",
    "    number += 1\n",
    "    if(number == 5):\n",
    "        break\n",
    "\n",
    "\n",
    "print(\"this is over\")\n"
   ]
  },
  {
   "cell_type": "code",
   "execution_count": null,
   "metadata": {},
   "outputs": [],
   "source": []
  },
  {
   "cell_type": "code",
   "execution_count": 1,
   "metadata": {},
   "outputs": [
    {
     "name": "stdout",
     "output_type": "stream",
     "text": [
      "*\n",
      "**\n",
      "***\n",
      "****\n"
     ]
    }
   ],
   "source": [
    "num = 1\n",
    "\n",
    "while num < 30:\n",
    "     # print(\"\\U0001f600\" * num)\n",
    "     if(num == 5):\n",
    "         break\n",
    "\n",
    "     print(\"*\" * num)\n",
    "     num += 1"
   ]
  },
  {
   "cell_type": "code",
   "execution_count": 1,
   "metadata": {},
   "outputs": [
    {
     "name": "stdout",
     "output_type": "stream",
     "text": [
      "    #\n",
      "   ###\n",
      "  #####\n",
      " #######\n",
      "#########\n",
      " #######\n",
      "  #####\n",
      "   ###\n",
      "    #\n"
     ]
    }
   ],
   "source": [
    "for i in range(5, 0, -1):\n",
    "    for j in range(i-1):\n",
    "        print(\" \", end=\"\")\n",
    "    for k in range(2*(5-i)+1):\n",
    "        print(\"#\", end=\"\")\n",
    "    print()\n",
    "\n",
    "for i in range(1, 5):\n",
    "    for j in range(i):\n",
    "        print(\" \", end=\"\")\n",
    "    for k in range(2*(4-i)+1):\n",
    "        print(\"#\", end=\"\")\n",
    "    print()"
   ]
  }
 ],
 "metadata": {
  "kernelspec": {
   "display_name": "Python 3",
   "language": "python",
   "name": "python3"
  },
  "language_info": {
   "codemirror_mode": {
    "name": "ipython",
    "version": 3
   },
   "file_extension": ".py",
   "mimetype": "text/x-python",
   "name": "python",
   "nbconvert_exporter": "python",
   "pygments_lexer": "ipython3",
   "version": "3.12.2"
  }
 },
 "nbformat": 4,
 "nbformat_minor": 2
}
