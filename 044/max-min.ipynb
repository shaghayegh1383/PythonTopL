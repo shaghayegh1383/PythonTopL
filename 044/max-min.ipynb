{
 "cells": [
  {
   "cell_type": "code",
   "execution_count": 2,
   "metadata": {},
   "outputs": [
    {
     "name": "stdout",
     "output_type": "stream",
     "text": [
      "[5, 5, 5, 4, 4, 3]\n",
      "Reira\n",
      "ali\n"
     ]
    }
   ],
   "source": [
    "numbers = [3, 6, 8, 13, 4, 90]\n",
    "\n",
    "chars = ['a', 't', 'z']\n",
    "\n",
    "myName = \"mostafa\"\n",
    "\n",
    "names = ['Reira', 'milad', 'moein', 'sara', 'iman','ali']\n",
    "\n",
    "res = [len(name) for name in names]\n",
    "\n",
    "print(res)\n",
    "\n",
    "# print(max(numbers))\n",
    "\n",
    "# print(min(numbers))\n",
    "\n",
    "print(max(names, key=lambda n: len(n)))\n",
    "print(min(names, key=lambda n: len(n)))\n"
   ]
  },
  {
   "cell_type": "code",
   "execution_count": 3,
   "metadata": {},
   "outputs": [
    {
     "name": "stdout",
     "output_type": "stream",
     "text": [
      "[5, 5, 5, 4, 4, 3]\n",
      "90\n",
      "3\n"
     ]
    }
   ],
   "source": [
    "numbers = [3, 6, 8, 13, 4, 90]\n",
    "\n",
    "chars = ['a', 't', 'z']\n",
    "\n",
    "myName = \"Shaghayegh\"\n",
    "\n",
    "names = ['Reira', 'milad', 'moein', 'sara', 'iman','ali']\n",
    "\n",
    "res = [len(name) for name in names]\n",
    "\n",
    "print(res)\n",
    "\n",
    "print(max(numbers))\n",
    "\n",
    "print(min(numbers))\n",
    
   ]
  }
 ],
 "metadata": {
  "kernelspec": {
   "display_name": "Python 3",
   "language": "python",
   "name": "python3"
  },
  "language_info": {
   "codemirror_mode": {
    "name": "ipython",
    "version": 3
   },
   "file_extension": ".py",
   "mimetype": "text/x-python",
   "name": "python",
   "nbconvert_exporter": "python",
   "pygments_lexer": "ipython3",
   "version": "3.12.2"
  }
 },
 "nbformat": 4,
 "nbformat_minor": 2
}
