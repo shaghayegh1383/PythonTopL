{
 "cells": [
  {
   "cell_type": "code",
   "execution_count": 4,
   "metadata": {},
   "outputs": [
    {
     "name": "stdout",
     "output_type": "stream",
     "text": [
      "[2, 4, 6]\n"
     ]
    }
   ],
   "source": [
    "# filter()\n",
    "\n",
    "numbers = [1, 2, 3, 4, 5, 6]\n",
    "\n",
    "evens = filter(lambda num: num % 2 == 0, numbers)\n",
    "\n",
    "print(list(evens))\n",
    "\n",
    "\n"
   ]
  },
  {
   "cell_type": "code",
   "execution_count": 5,
   "metadata": {},
   "outputs": [
    {
     "name": "stdout",
     "output_type": "stream",
     "text": [
      "['Reira', 'Ali']\n",
      "['Reira', 'Ali']\n"
     ]
    }
   ],
   "source": [
    "users = [\n",
    "    {'name': 'Reira', 'shopCart': []},\n",
    "    {'name': 'sara', 'shopCart': ['kotlin', 'vue']},\n",
    "    {'name': 'Ali', 'shopCart': []}\n",
    "]\n",
    "\n",
    "# print(len(users))\n",
    "\n",
    "# result = filter(lambda user: len(user['shopCart']) == 0, users)\n",
    "result = filter(lambda user: not user['shopCart'], users)\n",
    "\n",
    "# print(list(result))\n",
    "\n",
    "\n",
    "result2 = map(lambda user: user['name'],\n",
    "              filter(lambda user: not user['shopCart'], users)\n",
    "              )\n",
    "\n",
    "print(list(result2))\n",
    "\n",
    "result3 = [user['name'] for user in users if len(user['shopCart']) == 0]\n",
    "\n",
    "print(result3)"
   ]
  }
 ],
 "metadata": {
  "kernelspec": {
   "display_name": "Python 3",
   "language": "python",
   "name": "python3"
  },
  "language_info": {
   "codemirror_mode": {
    "name": "ipython",
    "version": 3
   },
   "file_extension": ".py",
   "mimetype": "text/x-python",
   "name": "python",
   "nbconvert_exporter": "python",
   "pygments_lexer": "ipython3",
   "version": "3.12.2"
  }
 },
 "nbformat": 4,
 "nbformat_minor": 2
}
