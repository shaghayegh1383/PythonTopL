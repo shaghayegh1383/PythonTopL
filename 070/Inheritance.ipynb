{
 "cells": [
  {
   "cell_type": "markdown",
   "metadata": {},
   "source": [
    "Method Resolution Order"
   ]
  },
  {
   "cell_type": "code",
   "execution_count": 3,
   "metadata": {},
   "outputs": [
    {
     "name": "stdout",
     "output_type": "stream",
     "text": [
      "Hello dear in D\n"
     ]
    }
   ],
   "source": [
    "#__mro__\n",
    "#mro()\n",
    "#help(cls)\n",
    "class A:\n",
    "    def say_hello(self):\n",
    "        print ('Hello dear in A')\n",
    "class B(A):\n",
    "    def say_hello(self):\n",
    "        print ('Hello dear in B')\n",
    "class C(A):\n",
    "    def say_hello(self):\n",
    "        print ('Hello dear in C')\n",
    "class D( B , C ):\n",
    "    def say_hello(self):\n",
    "        print ('Hello dear in D')\n",
    "        \n",
    "item = D()\n",
    "item.say_hello()\n"
   ]
  },
  {
   "cell_type": "code",
   "execution_count": 4,
   "metadata": {},
   "outputs": [
    {
     "name": "stdout",
     "output_type": "stream",
     "text": [
      "Hello dear in B\n"
     ]
    }
   ],
   "source": [
    "class D( B , C ):\n",
    "    pass\n",
    "    #def say_hello(self):\n",
    "        #print ('Hello dear in D')\n",
    "        \n",
    "item = D()\n",
    "item.say_hello()"
   ]
  },
  {
   "cell_type": "code",
   "execution_count": 5,
   "metadata": {},
   "outputs": [
    {
     "name": "stdout",
     "output_type": "stream",
     "text": [
      "Help on class D in module __main__:\n",
      "\n",
      "class D(B, C)\n",
      " |  Method resolution order:\n",
      " |      D\n",
      " |      B\n",
      " |      C\n",
      " |      A\n",
      " |      builtins.object\n",
      " |\n",
      " |  Methods inherited from B:\n",
      " |\n",
      " |  say_hello(self)\n",
      " |\n",
      " |  ----------------------------------------------------------------------\n",
      " |  Data descriptors inherited from A:\n",
      " |\n",
      " |  __dict__\n",
      " |      dictionary for instance variables\n",
      " |\n",
      " |  __weakref__\n",
      " |      list of weak references to the object\n",
      "\n",
      "None\n"
     ]
    }
   ],
   "source": [
    "print (help(D))"
   ]
  }
 ],
 "metadata": {
  "kernelspec": {
   "display_name": "Python 3",
   "language": "python",
   "name": "python3"
  },
  "language_info": {
   "codemirror_mode": {
    "name": "ipython",
    "version": 3
   },
   "file_extension": ".py",
   "mimetype": "text/x-python",
   "name": "python",
   "nbconvert_exporter": "python",
   "pygments_lexer": "ipython3",
   "version": "3.12.2"
  }
 },
 "nbformat": 4,
 "nbformat_minor": 2
}
