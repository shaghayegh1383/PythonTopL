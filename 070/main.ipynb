{
 "cells": [
  {
   "cell_type": "code",
   "execution_count": 5,
   "metadata": {},
   "outputs": [
    {
     "name": "stdout",
     "output_type": "stream",
     "text": [
      "shaghayegh\n",
      "Hello shaghayegh in Person Class.\n"
     ]
    }
   ],
   "source": [
    "class Person:\n",
    "    def __init__(self , name ):\n",
    "        self.name = name\n",
    "    def SayHello(self):\n",
    "        return f\"Hello {self.name} in Person Class.\"\n",
    "    \n",
    "class User:\n",
    "    def __init__(self , name ):\n",
    "        self.name = name\n",
    "        \n",
    "    def SayHello(self):\n",
    "        return f\"Hello {self.name} in User Class.\"\n",
    "            \n",
    "class Admin(Person , User):\n",
    "    def __init__(self, name):\n",
    "        super().__init__(name)\n",
    "        \n",
    "Person_1 = Admin('shaghayegh')\n",
    "print (Person_1.name)\n",
    "print (Person_1.SayHello())\n",
    "    "
   ]
  },
  {
   "cell_type": "code",
   "execution_count": 8,
   "metadata": {},
   "outputs": [
    {
     "name": "stdout",
     "output_type": "stream",
     "text": [
      "True\n",
      "True\n",
      "True\n"
     ]
    }
   ],
   "source": [
    "print (isinstance(Person_1 , Admin))\n",
    "print (isinstance(Person_1 , User))\n",
    "print (isinstance(Person_1 , Person))"
   ]
  },
  {
   "cell_type": "code",
   "execution_count": 12,
   "metadata": {},
   "outputs": [
    {
     "name": "stdout",
     "output_type": "stream",
     "text": [
      "(<class '__main__.Admin'>, <class '__main__.Person'>, <class '__main__.User'>, <class 'object'>)\n",
      "[<class '__main__.Admin'>, <class '__main__.Person'>, <class '__main__.User'>, <class 'object'>]\n",
      "Help on class Admin in module __main__:\n",
      "\n",
      "class Admin(Person, User)\n",
      " |  Admin(name)\n",
      " |\n",
      " |  Method resolution order:\n",
      " |      Admin\n",
      " |      Person\n",
      " |      User\n",
      " |      builtins.object\n",
      " |\n",
      " |  Methods defined here:\n",
      " |\n",
      " |  __init__(self, name)\n",
      " |      Initialize self.  See help(type(self)) for accurate signature.\n",
      " |\n",
      " |  ----------------------------------------------------------------------\n",
      " |  Methods inherited from Person:\n",
      " |\n",
      " |  SayHello(self)\n",
      " |\n",
      " |  ----------------------------------------------------------------------\n",
      " |  Data descriptors inherited from Person:\n",
      " |\n",
      " |  __dict__\n",
      " |      dictionary for instance variables\n",
      " |\n",
      " |  __weakref__\n",
      " |      list of weak references to the object\n",
      "\n"
     ]
    }
   ],
   "source": [
    "print (Admin.__mro__)\n",
    "print (Admin.mro())\n",
    "help(Admin)"
   ]
  }
 ],
 "metadata": {
  "kernelspec": {
   "display_name": "Python 3",
   "language": "python",
   "name": "python3"
  },
  "language_info": {
   "codemirror_mode": {
    "name": "ipython",
    "version": 3
   },
   "file_extension": ".py",
   "mimetype": "text/x-python",
   "name": "python",
   "nbconvert_exporter": "python",
   "pygments_lexer": "ipython3",
   "version": "3.12.2"
  }
 },
 "nbformat": 4,
 "nbformat_minor": 2
}
