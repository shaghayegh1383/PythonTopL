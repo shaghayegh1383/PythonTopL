{
 "cells": [
  {
   "cell_type": "markdown",
   "metadata": {},
   "source": [
    "Anonymous function => lambda"
   ]
  },
  {
   "cell_type": "code",
   "execution_count": null,
   "metadata": {},
   "outputs": [],
   "source": [
    "#output is the same\n",
    "def square(num): return num * num\n",
    "\n",
    "\n",
    "myFunction = lambda num: num * num\n",
    "\n",
    "print(myFunction(6))"
   ]
  },
  {
   "cell_type": "code",
   "execution_count": 2,
   "metadata": {},
   "outputs": [
    {
     "name": "stdout",
     "output_type": "stream",
     "text": [
      "11\n",
      "12\n",
      "square\n",
      "<lambda>\n"
     ]
    }
   ],
   "source": [
    "def sum(first, second): return first + second\n",
    "print(sum(4, 7))\n",
    "\n",
    "sum2 = lambda first,second: first + second\n",
    "\n",
    "print(sum2(4,8))\n",
    "\n",
    "print(square.__name__)  #show the name of func\n",
    "print(myFunction.__name__)"
   ]
  }
 ],
 "metadata": {
  "kernelspec": {
   "display_name": "Python 3",
   "language": "python",
   "name": "python3"
  },
  "language_info": {
   "codemirror_mode": {
    "name": "ipython",
    "version": 3
   },
   "file_extension": ".py",
   "mimetype": "text/x-python",
   "name": "python",
   "nbconvert_exporter": "python",
   "pygments_lexer": "ipython3",
   "version": "3.12.2"
  }
 },
 "nbformat": 4,
 "nbformat_minor": 2
}
